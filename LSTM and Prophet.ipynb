{
 "cells": [
  {
   "cell_type": "code",
   "execution_count": 1,
   "metadata": {},
   "outputs": [
    {
     "data": {
      "text/html": [
       "<div>\n",
       "<style scoped>\n",
       "    .dataframe tbody tr th:only-of-type {\n",
       "        vertical-align: middle;\n",
       "    }\n",
       "\n",
       "    .dataframe tbody tr th {\n",
       "        vertical-align: top;\n",
       "    }\n",
       "\n",
       "    .dataframe thead th {\n",
       "        text-align: right;\n",
       "    }\n",
       "</style>\n",
       "<table border=\"1\" class=\"dataframe\">\n",
       "  <thead>\n",
       "    <tr style=\"text-align: right;\">\n",
       "      <th></th>\n",
       "      <th>Month</th>\n",
       "      <th>Monthly beer production</th>\n",
       "    </tr>\n",
       "  </thead>\n",
       "  <tbody>\n",
       "    <tr>\n",
       "      <th>0</th>\n",
       "      <td>1956-01</td>\n",
       "      <td>93.2</td>\n",
       "    </tr>\n",
       "    <tr>\n",
       "      <th>1</th>\n",
       "      <td>1956-02</td>\n",
       "      <td>96.0</td>\n",
       "    </tr>\n",
       "    <tr>\n",
       "      <th>2</th>\n",
       "      <td>1956-03</td>\n",
       "      <td>95.2</td>\n",
       "    </tr>\n",
       "    <tr>\n",
       "      <th>3</th>\n",
       "      <td>1956-04</td>\n",
       "      <td>77.1</td>\n",
       "    </tr>\n",
       "    <tr>\n",
       "      <th>4</th>\n",
       "      <td>1956-05</td>\n",
       "      <td>70.9</td>\n",
       "    </tr>\n",
       "  </tbody>\n",
       "</table>\n",
       "</div>"
      ],
      "text/plain": [
       "     Month  Monthly beer production\n",
       "0  1956-01                     93.2\n",
       "1  1956-02                     96.0\n",
       "2  1956-03                     95.2\n",
       "3  1956-04                     77.1\n",
       "4  1956-05                     70.9"
      ]
     },
     "execution_count": 1,
     "metadata": {},
     "output_type": "execute_result"
    }
   ],
   "source": [
    "import numpy as np\n",
    "import pandas as pd\n",
    "from statsmodels.tsa.statespace.sarimax import SARIMAX\n",
    "from statsmodels.graphics.tsaplots import plot_acf,plot_pacf \n",
    "from statsmodels.tsa.seasonal import seasonal_decompose                         \n",
    "from sklearn.metrics import mean_squared_error\n",
    "from statsmodels.tools.eval_measures import rmse\n",
    "import warnings\n",
    "warnings.filterwarnings(\"ignore\")\n",
    "df = pd.read_csv(r'C:\\Users\\sharm\\Downloads\\Time-Series-Datasets-master\\Time-Series-Datasets-master\\monthly-beer-production-in-austr.csv')\n",
    "df.head()"
   ]
  },
  {
   "cell_type": "code",
   "execution_count": 2,
   "metadata": {},
   "outputs": [
    {
     "name": "stdout",
     "output_type": "stream",
     "text": [
      "<class 'pandas.core.frame.DataFrame'>\n",
      "RangeIndex: 476 entries, 0 to 475\n",
      "Data columns (total 2 columns):\n",
      " #   Column                   Non-Null Count  Dtype  \n",
      "---  ------                   --------------  -----  \n",
      " 0   Month                    476 non-null    object \n",
      " 1   Monthly beer production  476 non-null    float64\n",
      "dtypes: float64(1), object(1)\n",
      "memory usage: 7.6+ KB\n"
     ]
    }
   ],
   "source": [
    "df.info()"
   ]
  },
  {
   "cell_type": "code",
   "execution_count": 3,
   "metadata": {},
   "outputs": [
    {
     "data": {
      "text/html": [
       "<div>\n",
       "<style scoped>\n",
       "    .dataframe tbody tr th:only-of-type {\n",
       "        vertical-align: middle;\n",
       "    }\n",
       "\n",
       "    .dataframe tbody tr th {\n",
       "        vertical-align: top;\n",
       "    }\n",
       "\n",
       "    .dataframe thead th {\n",
       "        text-align: right;\n",
       "    }\n",
       "</style>\n",
       "<table border=\"1\" class=\"dataframe\">\n",
       "  <thead>\n",
       "    <tr style=\"text-align: right;\">\n",
       "      <th></th>\n",
       "      <th>Monthly beer production</th>\n",
       "    </tr>\n",
       "    <tr>\n",
       "      <th>Month</th>\n",
       "      <th></th>\n",
       "    </tr>\n",
       "  </thead>\n",
       "  <tbody>\n",
       "    <tr>\n",
       "      <th>1956-01-01</th>\n",
       "      <td>93.2</td>\n",
       "    </tr>\n",
       "    <tr>\n",
       "      <th>1956-02-01</th>\n",
       "      <td>96.0</td>\n",
       "    </tr>\n",
       "    <tr>\n",
       "      <th>1956-03-01</th>\n",
       "      <td>95.2</td>\n",
       "    </tr>\n",
       "    <tr>\n",
       "      <th>1956-04-01</th>\n",
       "      <td>77.1</td>\n",
       "    </tr>\n",
       "    <tr>\n",
       "      <th>1956-05-01</th>\n",
       "      <td>70.9</td>\n",
       "    </tr>\n",
       "  </tbody>\n",
       "</table>\n",
       "</div>"
      ],
      "text/plain": [
       "            Monthly beer production\n",
       "Month                              \n",
       "1956-01-01                     93.2\n",
       "1956-02-01                     96.0\n",
       "1956-03-01                     95.2\n",
       "1956-04-01                     77.1\n",
       "1956-05-01                     70.9"
      ]
     },
     "execution_count": 3,
     "metadata": {},
     "output_type": "execute_result"
    }
   ],
   "source": [
    "df.Month = pd.to_datetime(df.Month)\n",
    "df = df.set_index(\"Month\")\n",
    "df.head()"
   ]
  },
  {
   "cell_type": "code",
   "execution_count": 4,
   "metadata": {},
   "outputs": [
    {
     "data": {
      "image/png": "[encoded data removed]",
      "text/plain": [
       "<Figure size 1152x360 with 1 Axes>"
      ]
     },
     "metadata": {
      "needs_background": "light"
     },
     "output_type": "display_data"
    }
   ],
   "source": [
    "df.index.freq = 'MS'\n",
    "ax = df['Monthly beer production'].plot(figsize = (16,5), title = \"Monthly Beer Production\")\n",
    "ax.set(xlabel='Dates', ylabel='Total Production');"
   ]
  },
  {
   "cell_type": "code",
   "execution_count": 5,
   "metadata": {},
   "outputs": [],
   "source": [
    "train_data = df[:len(df)-12]\n",
    "test_data = df[len(df)-12:]"
   ]
  },
  {
   "cell_type": "code",
   "execution_count": 6,
   "metadata": {},
   "outputs": [],
   "source": [
    "from sklearn.preprocessing import MinMaxScaler\n",
    "scaler = MinMaxScaler()\n",
    "scaler.fit(train_data)\n",
    "scaled_train_data = scaler.transform(train_data)\n",
    "scaled_test_data = scaler.transform(test_data)"
   ]
  },
  {
   "cell_type": "code",
   "execution_count": 7,
   "metadata": {},
   "outputs": [
    {
     "name": "stdout",
     "output_type": "stream",
     "text": [
      "Model: \"sequential\"\n",
      "_________________________________________________________________\n",
      "Layer (type)                 Output Shape              Param #   \n",
      "=================================================================\n",
      "lstm (LSTM)                  (None, 200)               161600    \n",
      "_________________________________________________________________\n",
      "dense (Dense)                (None, 1)                 201       \n",
      "=================================================================\n",
      "Total params: 161,801\n",
      "Trainable params: 161,801\n",
      "Non-trainable params: 0\n",
      "_________________________________________________________________\n"
     ]
    }
   ],
   "source": [
    "from keras.preprocessing.sequence import TimeseriesGenerator\n",
    "\n",
    "n_input = 12\n",
    "n_features= 1\n",
    "generator = TimeseriesGenerator(scaled_train_data, scaled_train_data, length=n_input, batch_size=1)\n",
    "from keras.models import Sequential\n",
    "from keras.layers import Dense\n",
    "from keras.layers import LSTM\n",
    "\n",
    "lstm_model = Sequential()\n",
    "lstm_model.add(LSTM(200, activation='relu', input_shape=(n_input, n_features)))\n",
    "lstm_model.add(Dense(1))\n",
    "lstm_model.compile(optimizer='adam', loss='mse')\n",
    "\n",
    "lstm_model.summary()"
   ]
  },
  {
   "cell_type": "code",
   "execution_count": 8,
   "metadata": {},
   "outputs": [
    {
     "name": "stdout",
     "output_type": "stream",
     "text": [
      "Epoch 1/20\n",
      "452/452 [==============================] - 6s 5ms/step - loss: 0.0479\n",
      "Epoch 2/20\n",
      "452/452 [==============================] - 4s 9ms/step - loss: 0.0136A: 0s - loss: 0.\n",
      "Epoch 3/20\n",
      "452/452 [==============================] - 3s 7ms/step - loss: 0.0124\n",
      "Epoch 4/20\n",
      "452/452 [==============================] - 3s 6ms/step - loss: 0.0099\n",
      "Epoch 5/20\n",
      "452/452 [==============================] - 2s 5ms/step - loss: 0.0076\n",
      "Epoch 6/20\n",
      "452/452 [==============================] - 2s 5ms/step - loss: 0.0070\n",
      "Epoch 7/20\n",
      "452/452 [==============================] - 2s 5ms/step - loss: 0.0072\n",
      "Epoch 8/20\n",
      "452/452 [==============================] - 2s 5ms/step - loss: 0.0075\n",
      "Epoch 9/20\n",
      "452/452 [==============================] - 3s 6ms/step - loss: 0.0065\n",
      "Epoch 10/20\n",
      "452/452 [==============================] - 3s 6ms/step - loss: 0.0069\n",
      "Epoch 11/20\n",
      "452/452 [==============================] - 3s 6ms/step - loss: 0.0077\n",
      "Epoch 12/20\n",
      "452/452 [==============================] - 3s 6ms/step - loss: 0.0071\n",
      "Epoch 13/20\n",
      "452/452 [==============================] - 4s 9ms/step - loss: 0.0077\n",
      "Epoch 14/20\n",
      "452/452 [==============================] - 3s 6ms/step - loss: 0.0060\n",
      "Epoch 15/20\n",
      "452/452 [==============================] - 3s 6ms/step - loss: 0.0063\n",
      "Epoch 16/20\n",
      "452/452 [==============================] - 3s 6ms/step - loss: 0.0066\n",
      "Epoch 17/20\n",
      "452/452 [==============================] - 2s 5ms/step - loss: 0.0062\n",
      "Epoch 18/20\n",
      "452/452 [==============================] - 2s 5ms/step - loss: 0.0059\n",
      "Epoch 19/20\n",
      "452/452 [==============================] - 2s 5ms/step - loss: 0.0075\n",
      "Epoch 20/20\n",
      "452/452 [==============================] - 2s 5ms/step - loss: 0.0056\n"
     ]
    },
    {
     "data": {
      "text/plain": [
       "<tensorflow.python.keras.callbacks.History at 0x200d8173fa0>"
      ]
     },
     "execution_count": 8,
     "metadata": {},
     "output_type": "execute_result"
    }
   ],
   "source": [
    "lstm_model.fit_generator(generator,epochs=20)"
   ]
  },
  {
   "cell_type": "code",
   "execution_count": 9,
   "metadata": {},
   "outputs": [
    {
     "data": {
      "image/png": "[encoded data removed]",
      "text/plain": [
       "<Figure size 864x288 with 1 Axes>"
      ]
     },
     "metadata": {
      "needs_background": "light"
     },
     "output_type": "display_data"
    }
   ],
   "source": [
    "import matplotlib.pyplot as plt\n",
    "losses_lstm = lstm_model.history.history['loss']\n",
    "plt.figure(figsize=(12,4))\n",
    "plt.xlabel(\"Epochs\")\n",
    "plt.ylabel(\"Loss\")\n",
    "plt.xticks(np.arange(0,21,1))\n",
    "plt.plot(range(len(losses_lstm)),losses_lstm);"
   ]
  },
  {
   "cell_type": "code",
   "execution_count": 10,
   "metadata": {},
   "outputs": [],
   "source": [
    "lstm_predictions_scaled = list()\n",
    "\n",
    "batch = scaled_train_data[-n_input:]\n",
    "current_batch = batch.reshape((1, n_input, n_features))\n",
    "\n",
    "for i in range(len(test_data)):   \n",
    "    lstm_pred = lstm_model.predict(current_batch)[0]\n",
    "    lstm_predictions_scaled.append(lstm_pred) \n",
    "    current_batch = np.append(current_batch[:,1:,:],[[lstm_pred]],axis=1)"
   ]
  },
  {
   "cell_type": "code",
   "execution_count": 11,
   "metadata": {},
   "outputs": [
    {
     "data": {
      "text/plain": [
       "[array([0.53751326], dtype=float32),\n",
       " array([0.61621255], dtype=float32),\n",
       " array([0.7365539], dtype=float32),\n",
       " array([0.7452877], dtype=float32),\n",
       " array([0.57540643], dtype=float32),\n",
       " array([0.5395134], dtype=float32),\n",
       " array([0.612451], dtype=float32),\n",
       " array([0.4659144], dtype=float32),\n",
       " array([0.46757197], dtype=float32),\n",
       " array([0.44534898], dtype=float32),\n",
       " array([0.46570057], dtype=float32),\n",
       " array([0.527022], dtype=float32)]"
      ]
     },
     "execution_count": 11,
     "metadata": {},
     "output_type": "execute_result"
    }
   ],
   "source": [
    "lstm_predictions_scaled"
   ]
  },
  {
   "cell_type": "code",
   "execution_count": 12,
   "metadata": {},
   "outputs": [
    {
     "data": {
      "text/plain": [
       "array([[147.03952818],\n",
       "       [159.08051966],\n",
       "       [177.49274783],\n",
       "       [178.82902061],\n",
       "       [152.83718412],\n",
       "       [147.3455516 ],\n",
       "       [158.50500559],\n",
       "       [136.08490296],\n",
       "       [136.33851199],\n",
       "       [132.93839364],\n",
       "       [136.05218672],\n",
       "       [145.43436663]])"
      ]
     },
     "execution_count": 12,
     "metadata": {},
     "output_type": "execute_result"
    }
   ],
   "source": [
    "lstm_predictions = scaler.inverse_transform(lstm_predictions_scaled)\n",
    "lstm_predictions"
   ]
  },
  {
   "cell_type": "code",
   "execution_count": 13,
   "metadata": {},
   "outputs": [
    {
     "data": {
      "text/html": [
       "<div>\n",
       "<style scoped>\n",
       "    .dataframe tbody tr th:only-of-type {\n",
       "        vertical-align: middle;\n",
       "    }\n",
       "\n",
       "    .dataframe tbody tr th {\n",
       "        vertical-align: top;\n",
       "    }\n",
       "\n",
       "    .dataframe thead th {\n",
       "        text-align: right;\n",
       "    }\n",
       "</style>\n",
       "<table border=\"1\" class=\"dataframe\">\n",
       "  <thead>\n",
       "    <tr style=\"text-align: right;\">\n",
       "      <th></th>\n",
       "      <th>Monthly beer production</th>\n",
       "      <th>LSTM_Predictions</th>\n",
       "    </tr>\n",
       "    <tr>\n",
       "      <th>Month</th>\n",
       "      <th></th>\n",
       "      <th></th>\n",
       "    </tr>\n",
       "  </thead>\n",
       "  <tbody>\n",
       "    <tr>\n",
       "      <th>1994-09-01</th>\n",
       "      <td>143.0</td>\n",
       "      <td>147.039528</td>\n",
       "    </tr>\n",
       "    <tr>\n",
       "      <th>1994-10-01</th>\n",
       "      <td>160.0</td>\n",
       "      <td>159.080520</td>\n",
       "    </tr>\n",
       "    <tr>\n",
       "      <th>1994-11-01</th>\n",
       "      <td>190.0</td>\n",
       "      <td>177.492748</td>\n",
       "    </tr>\n",
       "    <tr>\n",
       "      <th>1994-12-01</th>\n",
       "      <td>182.0</td>\n",
       "      <td>178.829021</td>\n",
       "    </tr>\n",
       "    <tr>\n",
       "      <th>1995-01-01</th>\n",
       "      <td>138.0</td>\n",
       "      <td>152.837184</td>\n",
       "    </tr>\n",
       "    <tr>\n",
       "      <th>1995-02-01</th>\n",
       "      <td>136.0</td>\n",
       "      <td>147.345552</td>\n",
       "    </tr>\n",
       "    <tr>\n",
       "      <th>1995-03-01</th>\n",
       "      <td>152.0</td>\n",
       "      <td>158.505006</td>\n",
       "    </tr>\n",
       "    <tr>\n",
       "      <th>1995-04-01</th>\n",
       "      <td>127.0</td>\n",
       "      <td>136.084903</td>\n",
       "    </tr>\n",
       "    <tr>\n",
       "      <th>1995-05-01</th>\n",
       "      <td>151.0</td>\n",
       "      <td>136.338512</td>\n",
       "    </tr>\n",
       "    <tr>\n",
       "      <th>1995-06-01</th>\n",
       "      <td>130.0</td>\n",
       "      <td>132.938394</td>\n",
       "    </tr>\n",
       "    <tr>\n",
       "      <th>1995-07-01</th>\n",
       "      <td>119.0</td>\n",
       "      <td>136.052187</td>\n",
       "    </tr>\n",
       "    <tr>\n",
       "      <th>1995-08-01</th>\n",
       "      <td>153.0</td>\n",
       "      <td>145.434367</td>\n",
       "    </tr>\n",
       "  </tbody>\n",
       "</table>\n",
       "</div>"
      ],
      "text/plain": [
       "            Monthly beer production  LSTM_Predictions\n",
       "Month                                                \n",
       "1994-09-01                    143.0        147.039528\n",
       "1994-10-01                    160.0        159.080520\n",
       "1994-11-01                    190.0        177.492748\n",
       "1994-12-01                    182.0        178.829021\n",
       "1995-01-01                    138.0        152.837184\n",
       "1995-02-01                    136.0        147.345552\n",
       "1995-03-01                    152.0        158.505006\n",
       "1995-04-01                    127.0        136.084903\n",
       "1995-05-01                    151.0        136.338512\n",
       "1995-06-01                    130.0        132.938394\n",
       "1995-07-01                    119.0        136.052187\n",
       "1995-08-01                    153.0        145.434367"
      ]
     },
     "execution_count": 13,
     "metadata": {},
     "output_type": "execute_result"
    }
   ],
   "source": [
    "test_data['LSTM_Predictions'] = lstm_predictions\n",
    "test_data"
   ]
  },
  {
   "cell_type": "code",
   "execution_count": 14,
   "metadata": {},
   "outputs": [
    {
     "data": {
      "image/png": "[encoded data removed]",
      "text/plain": [
       "<Figure size 1152x360 with 1 Axes>"
      ]
     },
     "metadata": {
      "needs_background": "light"
     },
     "output_type": "display_data"
    }
   ],
   "source": [
    "test_data['Monthly beer production'].plot(figsize = (16,5), legend=True)\n",
    "test_data['LSTM_Predictions'].plot(legend = True);"
   ]
  },
  {
   "cell_type": "code",
   "execution_count": 15,
   "metadata": {},
   "outputs": [
    {
     "name": "stdout",
     "output_type": "stream",
     "text": [
      "MSE Error: 102.41442500819153\n",
      "RMSE Error: 10.12000123558251\n",
      "Mean: 136.39537815126045\n"
     ]
    }
   ],
   "source": [
    "lstm_rmse_error = rmse(test_data['Monthly beer production'], test_data[\"LSTM_Predictions\"])\n",
    "lstm_mse_error = lstm_rmse_error**2\n",
    "mean_value = df['Monthly beer production'].mean()\n",
    "\n",
    "print(f'MSE Error: {lstm_mse_error}\\nRMSE Error: {lstm_rmse_error}\\nMean: {mean_value}')"
   ]
  },
  {
   "cell_type": "code",
   "execution_count": 16,
   "metadata": {},
   "outputs": [
    {
     "name": "stderr",
     "output_type": "stream",
     "text": [
      "Importing plotly failed. Interactive plots will not work.\n",
      "INFO:numexpr.utils:NumExpr defaulting to 8 threads.\n",
      "INFO:fbprophet:Disabling weekly seasonality. Run prophet with weekly_seasonality=True to override this.\n",
      "INFO:fbprophet:Disabling daily seasonality. Run prophet with daily_seasonality=True to override this.\n"
     ]
    },
    {
     "data": {
      "text/html": [
       "<div>\n",
       "<style scoped>\n",
       "    .dataframe tbody tr th:only-of-type {\n",
       "        vertical-align: middle;\n",
       "    }\n",
       "\n",
       "    .dataframe tbody tr th {\n",
       "        vertical-align: top;\n",
       "    }\n",
       "\n",
       "    .dataframe thead th {\n",
       "        text-align: right;\n",
       "    }\n",
       "</style>\n",
       "<table border=\"1\" class=\"dataframe\">\n",
       "  <thead>\n",
       "    <tr style=\"text-align: right;\">\n",
       "      <th></th>\n",
       "      <th>ds</th>\n",
       "      <th>trend</th>\n",
       "      <th>yhat_lower</th>\n",
       "      <th>yhat_upper</th>\n",
       "      <th>trend_lower</th>\n",
       "      <th>trend_upper</th>\n",
       "      <th>additive_terms</th>\n",
       "      <th>additive_terms_lower</th>\n",
       "      <th>additive_terms_upper</th>\n",
       "      <th>yearly</th>\n",
       "      <th>yearly_lower</th>\n",
       "      <th>yearly_upper</th>\n",
       "      <th>multiplicative_terms</th>\n",
       "      <th>multiplicative_terms_lower</th>\n",
       "      <th>multiplicative_terms_upper</th>\n",
       "      <th>yhat</th>\n",
       "    </tr>\n",
       "  </thead>\n",
       "  <tbody>\n",
       "    <tr>\n",
       "      <th>471</th>\n",
       "      <td>1995-04-01</td>\n",
       "      <td>151.146328</td>\n",
       "      <td>131.310157</td>\n",
       "      <td>155.653797</td>\n",
       "      <td>151.088147</td>\n",
       "      <td>151.197750</td>\n",
       "      <td>-7.956851</td>\n",
       "      <td>-7.956851</td>\n",
       "      <td>-7.956851</td>\n",
       "      <td>-7.956851</td>\n",
       "      <td>-7.956851</td>\n",
       "      <td>-7.956851</td>\n",
       "      <td>0.0</td>\n",
       "      <td>0.0</td>\n",
       "      <td>0.0</td>\n",
       "      <td>143.189478</td>\n",
       "    </tr>\n",
       "    <tr>\n",
       "      <th>472</th>\n",
       "      <td>1995-05-01</td>\n",
       "      <td>151.082843</td>\n",
       "      <td>127.409170</td>\n",
       "      <td>152.299206</td>\n",
       "      <td>150.999516</td>\n",
       "      <td>151.150790</td>\n",
       "      <td>-11.400291</td>\n",
       "      <td>-11.400291</td>\n",
       "      <td>-11.400291</td>\n",
       "      <td>-11.400291</td>\n",
       "      <td>-11.400291</td>\n",
       "      <td>-11.400291</td>\n",
       "      <td>0.0</td>\n",
       "      <td>0.0</td>\n",
       "      <td>0.0</td>\n",
       "      <td>139.682552</td>\n",
       "    </tr>\n",
       "    <tr>\n",
       "      <th>473</th>\n",
       "      <td>1995-06-01</td>\n",
       "      <td>151.017241</td>\n",
       "      <td>114.812393</td>\n",
       "      <td>138.521363</td>\n",
       "      <td>150.908689</td>\n",
       "      <td>151.104115</td>\n",
       "      <td>-23.915887</td>\n",
       "      <td>-23.915887</td>\n",
       "      <td>-23.915887</td>\n",
       "      <td>-23.915887</td>\n",
       "      <td>-23.915887</td>\n",
       "      <td>-23.915887</td>\n",
       "      <td>0.0</td>\n",
       "      <td>0.0</td>\n",
       "      <td>0.0</td>\n",
       "      <td>127.101354</td>\n",
       "    </tr>\n",
       "    <tr>\n",
       "      <th>474</th>\n",
       "      <td>1995-07-01</td>\n",
       "      <td>150.953756</td>\n",
       "      <td>122.105826</td>\n",
       "      <td>148.091047</td>\n",
       "      <td>150.809989</td>\n",
       "      <td>151.068015</td>\n",
       "      <td>-15.746555</td>\n",
       "      <td>-15.746555</td>\n",
       "      <td>-15.746555</td>\n",
       "      <td>-15.746555</td>\n",
       "      <td>-15.746555</td>\n",
       "      <td>-15.746555</td>\n",
       "      <td>0.0</td>\n",
       "      <td>0.0</td>\n",
       "      <td>0.0</td>\n",
       "      <td>135.207201</td>\n",
       "    </tr>\n",
       "    <tr>\n",
       "      <th>475</th>\n",
       "      <td>1995-08-01</td>\n",
       "      <td>150.888155</td>\n",
       "      <td>129.028945</td>\n",
       "      <td>153.746668</td>\n",
       "      <td>150.715811</td>\n",
       "      <td>151.022852</td>\n",
       "      <td>-9.208543</td>\n",
       "      <td>-9.208543</td>\n",
       "      <td>-9.208543</td>\n",
       "      <td>-9.208543</td>\n",
       "      <td>-9.208543</td>\n",
       "      <td>-9.208543</td>\n",
       "      <td>0.0</td>\n",
       "      <td>0.0</td>\n",
       "      <td>0.0</td>\n",
       "      <td>141.679612</td>\n",
       "    </tr>\n",
       "  </tbody>\n",
       "</table>\n",
       "</div>"
      ],
      "text/plain": [
       "            ds       trend  yhat_lower  yhat_upper  trend_lower  trend_upper  \\\n",
       "471 1995-04-01  151.146328  131.310157  155.653797   151.088147   151.197750   \n",
       "472 1995-05-01  151.082843  127.409170  152.299206   150.999516   151.150790   \n",
       "473 1995-06-01  151.017241  114.812393  138.521363   150.908689   151.104115   \n",
       "474 1995-07-01  150.953756  122.105826  148.091047   150.809989   151.068015   \n",
       "475 1995-08-01  150.888155  129.028945  153.746668   150.715811   151.022852   \n",
       "\n",
       "     additive_terms  additive_terms_lower  additive_terms_upper     yearly  \\\n",
       "471       -7.956851             -7.956851             -7.956851  -7.956851   \n",
       "472      -11.400291            -11.400291            -11.400291 -11.400291   \n",
       "473      -23.915887            -23.915887            -23.915887 -23.915887   \n",
       "474      -15.746555            -15.746555            -15.746555 -15.746555   \n",
       "475       -9.208543             -9.208543             -9.208543  -9.208543   \n",
       "\n",
       "     yearly_lower  yearly_upper  multiplicative_terms  \\\n",
       "471     -7.956851     -7.956851                   0.0   \n",
       "472    -11.400291    -11.400291                   0.0   \n",
       "473    -23.915887    -23.915887                   0.0   \n",
       "474    -15.746555    -15.746555                   0.0   \n",
       "475     -9.208543     -9.208543                   0.0   \n",
       "\n",
       "     multiplicative_terms_lower  multiplicative_terms_upper        yhat  \n",
       "471                         0.0                         0.0  143.189478  \n",
       "472                         0.0                         0.0  139.682552  \n",
       "473                         0.0                         0.0  127.101354  \n",
       "474                         0.0                         0.0  135.207201  \n",
       "475                         0.0                         0.0  141.679612  "
      ]
     },
     "execution_count": 16,
     "metadata": {},
     "output_type": "execute_result"
    }
   ],
   "source": [
    "df_pr = df.copy()\n",
    "df_pr = df.reset_index()\n",
    "df_pr.columns = ['ds','y'] # To use prophet column names should be like that\n",
    "train_data_pr = df_pr.iloc[:len(df)-12]\n",
    "test_data_pr = df_pr.iloc[len(df)-12:]\n",
    "from fbprophet import Prophet\n",
    "m = Prophet()\n",
    "m.fit(train_data_pr)\n",
    "future = m.make_future_dataframe(periods=12,freq='MS')\n",
    "prophet_pred = m.predict(future)\n",
    "prophet_pred.tail()"
   ]
  },
  {
   "cell_type": "code",
   "execution_count": 17,
   "metadata": {},
   "outputs": [
    {
     "data": {
      "text/html": [
       "<div>\n",
       "<style scoped>\n",
       "    .dataframe tbody tr th:only-of-type {\n",
       "        vertical-align: middle;\n",
       "    }\n",
       "\n",
       "    .dataframe tbody tr th {\n",
       "        vertical-align: top;\n",
       "    }\n",
       "\n",
       "    .dataframe thead th {\n",
       "        text-align: right;\n",
       "    }\n",
       "</style>\n",
       "<table border=\"1\" class=\"dataframe\">\n",
       "  <thead>\n",
       "    <tr style=\"text-align: right;\">\n",
       "      <th></th>\n",
       "      <th>Pred</th>\n",
       "    </tr>\n",
       "    <tr>\n",
       "      <th>Date</th>\n",
       "      <th></th>\n",
       "    </tr>\n",
       "  </thead>\n",
       "  <tbody>\n",
       "    <tr>\n",
       "      <th>1994-09-01</th>\n",
       "      <td>145.087502</td>\n",
       "    </tr>\n",
       "    <tr>\n",
       "      <th>1994-10-01</th>\n",
       "      <td>166.104924</td>\n",
       "    </tr>\n",
       "    <tr>\n",
       "      <th>1994-11-01</th>\n",
       "      <td>173.729015</td>\n",
       "    </tr>\n",
       "    <tr>\n",
       "      <th>1994-12-01</th>\n",
       "      <td>185.977964</td>\n",
       "    </tr>\n",
       "    <tr>\n",
       "      <th>1995-01-01</th>\n",
       "      <td>155.260571</td>\n",
       "    </tr>\n",
       "    <tr>\n",
       "      <th>1995-02-01</th>\n",
       "      <td>146.818146</td>\n",
       "    </tr>\n",
       "    <tr>\n",
       "      <th>1995-03-01</th>\n",
       "      <td>158.923972</td>\n",
       "    </tr>\n",
       "    <tr>\n",
       "      <th>1995-04-01</th>\n",
       "      <td>143.189478</td>\n",
       "    </tr>\n",
       "    <tr>\n",
       "      <th>1995-05-01</th>\n",
       "      <td>139.682552</td>\n",
       "    </tr>\n",
       "    <tr>\n",
       "      <th>1995-06-01</th>\n",
       "      <td>127.101354</td>\n",
       "    </tr>\n",
       "    <tr>\n",
       "      <th>1995-07-01</th>\n",
       "      <td>135.207201</td>\n",
       "    </tr>\n",
       "    <tr>\n",
       "      <th>1995-08-01</th>\n",
       "      <td>141.679612</td>\n",
       "    </tr>\n",
       "  </tbody>\n",
       "</table>\n",
       "</div>"
      ],
      "text/plain": [
       "                  Pred\n",
       "Date                  \n",
       "1994-09-01  145.087502\n",
       "1994-10-01  166.104924\n",
       "1994-11-01  173.729015\n",
       "1994-12-01  185.977964\n",
       "1995-01-01  155.260571\n",
       "1995-02-01  146.818146\n",
       "1995-03-01  158.923972\n",
       "1995-04-01  143.189478\n",
       "1995-05-01  139.682552\n",
       "1995-06-01  127.101354\n",
       "1995-07-01  135.207201\n",
       "1995-08-01  141.679612"
      ]
     },
     "execution_count": 17,
     "metadata": {},
     "output_type": "execute_result"
    }
   ],
   "source": [
    "prophet_pred = pd.DataFrame({\"Date\" : prophet_pred[-12:]['ds'], \"Pred\" : prophet_pred[-12:][\"yhat\"]})\n",
    "prophet_pred = prophet_pred.set_index(\"Date\")\n",
    "prophet_pred.index.freq = \"MS\"\n",
    "prophet_pred"
   ]
  },
  {
   "cell_type": "code",
   "execution_count": 18,
   "metadata": {},
   "outputs": [
    {
     "data": {
      "image/png": "[encoded data removed]",
      "text/plain": [
       "<Figure size 1152x360 with 1 Axes>"
      ]
     },
     "metadata": {
      "needs_background": "light"
     },
     "output_type": "display_data"
    }
   ],
   "source": [
    "test_data[\"Prophet_Predictions\"] = prophet_pred['Pred'].values\n",
    "import seaborn as sns\n",
    "plt.figure(figsize=(16,5))\n",
    "ax = sns.lineplot(x= test_data.index, y=test_data[\"Monthly beer production\"])\n",
    "sns.lineplot(x=test_data.index, y = test_data[\"Prophet_Predictions\"]);"
   ]
  },
  {
   "cell_type": "code",
   "execution_count": 19,
   "metadata": {},
   "outputs": [
    {
     "name": "stdout",
     "output_type": "stream",
     "text": [
      "MSE Error: 131.20903532674527\n",
      "RMSE Error: 11.454651252951583\n",
      "Mean: 136.39537815126045\n"
     ]
    }
   ],
   "source": [
    "prophet_rmse_error = rmse(test_data['Monthly beer production'], test_data[\"Prophet_Predictions\"])\n",
    "prophet_mse_error = prophet_rmse_error**2\n",
    "mean_value = df['Monthly beer production'].mean()\n",
    "\n",
    "print(f'MSE Error: {prophet_mse_error}\\nRMSE Error: {prophet_rmse_error}\\nMean: {mean_value}')"
   ]
  },
  {
   "cell_type": "markdown",
   "metadata": {},
   "source": [
    "Now Ensembling both methods"
   ]
  },
  {
   "cell_type": "code",
   "execution_count": 31,
   "metadata": {},
   "outputs": [
    {
     "data": {
      "text/plain": [
       "[array([146.06351496]),\n",
       " array([162.59272173]),\n",
       " array([175.61088127]),\n",
       " array([182.40349251]),\n",
       " array([154.04887737]),\n",
       " array([147.08184893]),\n",
       " array([158.71448887]),\n",
       " array([139.63719035]),\n",
       " array([138.01053205]),\n",
       " array([130.01987399]),\n",
       " array([135.62969395]),\n",
       " array([143.55698913])]"
      ]
     },
     "execution_count": 31,
     "metadata": {},
     "output_type": "execute_result"
    }
   ],
   "source": [
    "stacking_values = []\n",
    "for i in range(len(prophet_pred['Pred'])):\n",
    "    stacking_values.append((prophet_pred['Pred'][i] + lstm_predictions[i]) / 2)\n",
    "stacking_values\n"
   ]
  },
  {
   "cell_type": "code",
   "execution_count": 36,
   "metadata": {},
   "outputs": [],
   "source": [
    "stacking_values = np.concatenate( stacking_values, axis=0 )"
   ]
  },
  {
   "cell_type": "code",
   "execution_count": 37,
   "metadata": {},
   "outputs": [
    {
     "data": {
      "text/html": [
       "<div>\n",
       "<style scoped>\n",
       "    .dataframe tbody tr th:only-of-type {\n",
       "        vertical-align: middle;\n",
       "    }\n",
       "\n",
       "    .dataframe tbody tr th {\n",
       "        vertical-align: top;\n",
       "    }\n",
       "\n",
       "    .dataframe thead th {\n",
       "        text-align: right;\n",
       "    }\n",
       "</style>\n",
       "<table border=\"1\" class=\"dataframe\">\n",
       "  <thead>\n",
       "    <tr style=\"text-align: right;\">\n",
       "      <th></th>\n",
       "      <th>Monthly beer production</th>\n",
       "      <th>LSTM_Predictions</th>\n",
       "      <th>Prophet_Predictions</th>\n",
       "      <th>Ensemble_Pred</th>\n",
       "    </tr>\n",
       "    <tr>\n",
       "      <th>Month</th>\n",
       "      <th></th>\n",
       "      <th></th>\n",
       "      <th></th>\n",
       "      <th></th>\n",
       "    </tr>\n",
       "  </thead>\n",
       "  <tbody>\n",
       "    <tr>\n",
       "      <th>1994-09-01</th>\n",
       "      <td>143.0</td>\n",
       "      <td>147.039528</td>\n",
       "      <td>145.087502</td>\n",
       "      <td>146.063515</td>\n",
       "    </tr>\n",
       "    <tr>\n",
       "      <th>1994-10-01</th>\n",
       "      <td>160.0</td>\n",
       "      <td>159.080520</td>\n",
       "      <td>166.104924</td>\n",
       "      <td>162.592722</td>\n",
       "    </tr>\n",
       "    <tr>\n",
       "      <th>1994-11-01</th>\n",
       "      <td>190.0</td>\n",
       "      <td>177.492748</td>\n",
       "      <td>173.729015</td>\n",
       "      <td>175.610881</td>\n",
       "    </tr>\n",
       "    <tr>\n",
       "      <th>1994-12-01</th>\n",
       "      <td>182.0</td>\n",
       "      <td>178.829021</td>\n",
       "      <td>185.977964</td>\n",
       "      <td>182.403493</td>\n",
       "    </tr>\n",
       "    <tr>\n",
       "      <th>1995-01-01</th>\n",
       "      <td>138.0</td>\n",
       "      <td>152.837184</td>\n",
       "      <td>155.260571</td>\n",
       "      <td>154.048877</td>\n",
       "    </tr>\n",
       "    <tr>\n",
       "      <th>1995-02-01</th>\n",
       "      <td>136.0</td>\n",
       "      <td>147.345552</td>\n",
       "      <td>146.818146</td>\n",
       "      <td>147.081849</td>\n",
       "    </tr>\n",
       "    <tr>\n",
       "      <th>1995-03-01</th>\n",
       "      <td>152.0</td>\n",
       "      <td>158.505006</td>\n",
       "      <td>158.923972</td>\n",
       "      <td>158.714489</td>\n",
       "    </tr>\n",
       "    <tr>\n",
       "      <th>1995-04-01</th>\n",
       "      <td>127.0</td>\n",
       "      <td>136.084903</td>\n",
       "      <td>143.189478</td>\n",
       "      <td>139.637190</td>\n",
       "    </tr>\n",
       "    <tr>\n",
       "      <th>1995-05-01</th>\n",
       "      <td>151.0</td>\n",
       "      <td>136.338512</td>\n",
       "      <td>139.682552</td>\n",
       "      <td>138.010532</td>\n",
       "    </tr>\n",
       "    <tr>\n",
       "      <th>1995-06-01</th>\n",
       "      <td>130.0</td>\n",
       "      <td>132.938394</td>\n",
       "      <td>127.101354</td>\n",
       "      <td>130.019874</td>\n",
       "    </tr>\n",
       "    <tr>\n",
       "      <th>1995-07-01</th>\n",
       "      <td>119.0</td>\n",
       "      <td>136.052187</td>\n",
       "      <td>135.207201</td>\n",
       "      <td>135.629694</td>\n",
       "    </tr>\n",
       "    <tr>\n",
       "      <th>1995-08-01</th>\n",
       "      <td>153.0</td>\n",
       "      <td>145.434367</td>\n",
       "      <td>141.679612</td>\n",
       "      <td>143.556989</td>\n",
       "    </tr>\n",
       "  </tbody>\n",
       "</table>\n",
       "</div>"
      ],
      "text/plain": [
       "            Monthly beer production  LSTM_Predictions  Prophet_Predictions  \\\n",
       "Month                                                                        \n",
       "1994-09-01                    143.0        147.039528           145.087502   \n",
       "1994-10-01                    160.0        159.080520           166.104924   \n",
       "1994-11-01                    190.0        177.492748           173.729015   \n",
       "1994-12-01                    182.0        178.829021           185.977964   \n",
       "1995-01-01                    138.0        152.837184           155.260571   \n",
       "1995-02-01                    136.0        147.345552           146.818146   \n",
       "1995-03-01                    152.0        158.505006           158.923972   \n",
       "1995-04-01                    127.0        136.084903           143.189478   \n",
       "1995-05-01                    151.0        136.338512           139.682552   \n",
       "1995-06-01                    130.0        132.938394           127.101354   \n",
       "1995-07-01                    119.0        136.052187           135.207201   \n",
       "1995-08-01                    153.0        145.434367           141.679612   \n",
       "\n",
       "            Ensemble_Pred  \n",
       "Month                      \n",
       "1994-09-01     146.063515  \n",
       "1994-10-01     162.592722  \n",
       "1994-11-01     175.610881  \n",
       "1994-12-01     182.403493  \n",
       "1995-01-01     154.048877  \n",
       "1995-02-01     147.081849  \n",
       "1995-03-01     158.714489  \n",
       "1995-04-01     139.637190  \n",
       "1995-05-01     138.010532  \n",
       "1995-06-01     130.019874  \n",
       "1995-07-01     135.629694  \n",
       "1995-08-01     143.556989  "
      ]
     },
     "execution_count": 37,
     "metadata": {},
     "output_type": "execute_result"
    }
   ],
   "source": [
    "test_data[\"Ensemble_Pred\"] = stacking_values\n",
    "test_data"
   ]
  },
  {
   "cell_type": "code",
   "execution_count": 38,
   "metadata": {},
   "outputs": [],
   "source": [
    "ensemble_rmse_error = rmse(test_data['Monthly beer production'], test_data[\"Ensemble_Pred\"])\n",
    "ensemble_mse_error = ensemble_rmse_error**2"
   ]
  },
  {
   "cell_type": "code",
   "execution_count": 39,
   "metadata": {},
   "outputs": [],
   "source": [
    "rmse_errors = [ensemble_rmse_error, lstm_rmse_error, prophet_rmse_error]\n",
    "mse_errors = [ensemble_mse_error, lstm_mse_error, prophet_mse_error]"
   ]
  },
  {
   "cell_type": "code",
   "execution_count": 40,
   "metadata": {},
   "outputs": [
    {
     "data": {
      "text/html": [
       "<div>\n",
       "<style scoped>\n",
       "    .dataframe tbody tr th:only-of-type {\n",
       "        vertical-align: middle;\n",
       "    }\n",
       "\n",
       "    .dataframe tbody tr th {\n",
       "        vertical-align: top;\n",
       "    }\n",
       "\n",
       "    .dataframe thead th {\n",
       "        text-align: right;\n",
       "    }\n",
       "</style>\n",
       "<table border=\"1\" class=\"dataframe\">\n",
       "  <thead>\n",
       "    <tr style=\"text-align: right;\">\n",
       "      <th></th>\n",
       "      <th>Models</th>\n",
       "      <th>RMSE Errors</th>\n",
       "      <th>MSE Errors</th>\n",
       "    </tr>\n",
       "  </thead>\n",
       "  <tbody>\n",
       "    <tr>\n",
       "      <th>0</th>\n",
       "      <td>Ensemble</td>\n",
       "      <td>10.578742</td>\n",
       "      <td>111.909792</td>\n",
       "    </tr>\n",
       "    <tr>\n",
       "      <th>1</th>\n",
       "      <td>LSTM</td>\n",
       "      <td>10.120001</td>\n",
       "      <td>102.414425</td>\n",
       "    </tr>\n",
       "    <tr>\n",
       "      <th>2</th>\n",
       "      <td>Prophet</td>\n",
       "      <td>11.454651</td>\n",
       "      <td>131.209035</td>\n",
       "    </tr>\n",
       "  </tbody>\n",
       "</table>\n",
       "</div>"
      ],
      "text/plain": [
       "     Models  RMSE Errors  MSE Errors\n",
       "0  Ensemble    10.578742  111.909792\n",
       "1      LSTM    10.120001  102.414425\n",
       "2   Prophet    11.454651  131.209035"
      ]
     },
     "execution_count": 40,
     "metadata": {},
     "output_type": "execute_result"
    }
   ],
   "source": [
    "errors = pd.DataFrame({\"Models\" : [\"Ensemble\", \"LSTM\", \"Prophet\"],\"RMSE Errors\" : rmse_errors, \"MSE Errors\" : mse_errors})\n",
    "errors"
   ]
  },
  {
   "cell_type": "code",
   "execution_count": null,
   "metadata": {},
   "outputs": [],
   "source": []
  }
 ],
 "metadata": {
  "kernelspec": {
   "display_name": "Python 3",
   "language": "python",
   "name": "python3"
  },
  "language_info": {
   "codemirror_mode": {
    "name": "ipython",
    "version": 3
   },
   "file_extension": ".py",
   "mimetype": "text/x-python",
   "name": "python",
   "nbconvert_exporter": "python",
   "pygments_lexer": "ipython3",
   "version": "3.8.3"
  }
 },
 "nbformat": 4,
 "nbformat_minor": 4
}
